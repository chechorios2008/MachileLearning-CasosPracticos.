{
 "cells": [
  {
   "cell_type": "markdown",
   "metadata": {},
   "source": [
    "<h1> ¿Quien Habla? </h1>\n",
    "\n",
    "<p> El presente proyecto identifica en de un set de datos si quien esta hablando es un politico o un medico. el objetivo es hacer esta clasificación BINARIA por medio de modelos ML. <p>\n",
    "<li> NLTK: biblioteca de Python ampliamente utilizada en el procesamiento del lenguaje natural (PLN) y la lingüística computacional. Ofrece herramientas para tokenización, segmentación, etiquetado, análisis y procesamiento de texto en varios idiomas. </li>\n",
    "<li> UNICODE: se utiliza para transformar texto Unicode (que incluye caracteres acentuados y caracteres especiales) en texto ASCII simple y legible.</li>"
   ]
  },
  {
   "cell_type": "code",
   "execution_count": 3,
   "metadata": {},
   "outputs": [],
   "source": [
    "import string\n",
    "\n",
    "import numpy as np\n",
    "import pandas as pd\n",
    "import seaborn as sns\n",
    "import matplotlib.pyplot as plt\n",
    "import nltk\n",
    "from nltk.corpus import stopwords\n",
    "from unidecode import unidecode"
   ]
  },
  {
   "cell_type": "code",
   "execution_count": 6,
   "metadata": {},
   "outputs": [
    {
     "data": {
      "text/html": [
       "<div>\n",
       "<style scoped>\n",
       "    .dataframe tbody tr th:only-of-type {\n",
       "        vertical-align: middle;\n",
       "    }\n",
       "\n",
       "    .dataframe tbody tr th {\n",
       "        vertical-align: top;\n",
       "    }\n",
       "\n",
       "    .dataframe thead th {\n",
       "        text-align: right;\n",
       "    }\n",
       "</style>\n",
       "<table border=\"1\" class=\"dataframe\">\n",
       "  <thead>\n",
       "    <tr style=\"text-align: right;\">\n",
       "      <th></th>\n",
       "      <th>Unnamed: 0</th>\n",
       "      <th>speaker</th>\n",
       "      <th>dialog</th>\n",
       "      <th>length</th>\n",
       "    </tr>\n",
       "  </thead>\n",
       "  <tbody>\n",
       "    <tr>\n",
       "      <th>150734</th>\n",
       "      <td>150734</td>\n",
       "      <td>lopez-gatell</td>\n",
       "      <td>Informamos de algunos avances importantes. El ...</td>\n",
       "      <td>290</td>\n",
       "    </tr>\n",
       "    <tr>\n",
       "      <th>67928</th>\n",
       "      <td>67928</td>\n",
       "      <td>amlo</td>\n",
       "      <td>Entonces, hay una carta de Porfirio que es gen...</td>\n",
       "      <td>248</td>\n",
       "    </tr>\n",
       "    <tr>\n",
       "      <th>14584</th>\n",
       "      <td>14584</td>\n",
       "      <td>lopez-gatell</td>\n",
       "      <td>Por lo que se ve aquí, el porcentaje de activo...</td>\n",
       "      <td>334</td>\n",
       "    </tr>\n",
       "    <tr>\n",
       "      <th>71659</th>\n",
       "      <td>71659</td>\n",
       "      <td>amlo</td>\n",
       "      <td>¡Que viva Tepexi!</td>\n",
       "      <td>17</td>\n",
       "    </tr>\n",
       "    <tr>\n",
       "      <th>150212</th>\n",
       "      <td>150212</td>\n",
       "      <td>lopez-gatell</td>\n",
       "      <td>Lo importante es que ya llevamos 415 mil 417 v...</td>\n",
       "      <td>63</td>\n",
       "    </tr>\n",
       "  </tbody>\n",
       "</table>\n",
       "</div>"
      ],
      "text/plain": [
       "        Unnamed: 0       speaker  \\\n",
       "150734      150734  lopez-gatell   \n",
       "67928        67928          amlo   \n",
       "14584        14584  lopez-gatell   \n",
       "71659        71659          amlo   \n",
       "150212      150212  lopez-gatell   \n",
       "\n",
       "                                                   dialog  length  \n",
       "150734  Informamos de algunos avances importantes. El ...     290  \n",
       "67928   Entonces, hay una carta de Porfirio que es gen...     248  \n",
       "14584   Por lo que se ve aquí, el porcentaje de activo...     334  \n",
       "71659                                   ¡Que viva Tepexi!      17  \n",
       "150212  Lo importante es que ya llevamos 415 mil 417 v...      63  "
      ]
     },
     "execution_count": 6,
     "metadata": {},
     "output_type": "execute_result"
    }
   ],
   "source": [
    "dialogs = pd.read_csv('C:/Users/chech/PC Febrero 2023/1. Data Scients/Machine Learning Projects/QuienHabla/data/dialogos.csv')\n",
    "dialogs.sample(5)"
   ]
  },
  {
   "cell_type": "code",
   "execution_count": 7,
   "metadata": {},
   "outputs": [
    {
     "data": {
      "text/html": [
       "<div>\n",
       "<style scoped>\n",
       "    .dataframe tbody tr th:only-of-type {\n",
       "        vertical-align: middle;\n",
       "    }\n",
       "\n",
       "    .dataframe tbody tr th {\n",
       "        vertical-align: top;\n",
       "    }\n",
       "\n",
       "    .dataframe thead th {\n",
       "        text-align: right;\n",
       "    }\n",
       "</style>\n",
       "<table border=\"1\" class=\"dataframe\">\n",
       "  <thead>\n",
       "    <tr style=\"text-align: right;\">\n",
       "      <th></th>\n",
       "      <th>Unnamed: 0</th>\n",
       "      <th>speaker</th>\n",
       "      <th>dialog</th>\n",
       "      <th>length</th>\n",
       "    </tr>\n",
       "  </thead>\n",
       "  <tbody>\n",
       "    <tr>\n",
       "      <th>93438</th>\n",
       "      <td>93438</td>\n",
       "      <td>politico</td>\n",
       "      <td>No, no se modifica ninguna ley. Fue un acuerdo...</td>\n",
       "      <td>220</td>\n",
       "    </tr>\n",
       "    <tr>\n",
       "      <th>128477</th>\n",
       "      <td>128477</td>\n",
       "      <td>politico</td>\n",
       "      <td>Esta es la inflación anualizada.</td>\n",
       "      <td>32</td>\n",
       "    </tr>\n",
       "    <tr>\n",
       "      <th>80524</th>\n",
       "      <td>80524</td>\n",
       "      <td>politico</td>\n",
       "      <td>Esa era una de las reglas de la anterior polít...</td>\n",
       "      <td>143</td>\n",
       "    </tr>\n",
       "    <tr>\n",
       "      <th>32832</th>\n",
       "      <td>32832</td>\n",
       "      <td>medico</td>\n",
       "      <td>Entonces, hay que quitarnos ya esta idea de: ‘...</td>\n",
       "      <td>130</td>\n",
       "    </tr>\n",
       "    <tr>\n",
       "      <th>102252</th>\n",
       "      <td>102252</td>\n",
       "      <td>politico</td>\n",
       "      <td>Pero no sólo es darle la planta, porque eso no...</td>\n",
       "      <td>406</td>\n",
       "    </tr>\n",
       "    <tr>\n",
       "      <th>123089</th>\n",
       "      <td>123089</td>\n",
       "      <td>politico</td>\n",
       "      <td>Muy bien. Reyna.</td>\n",
       "      <td>16</td>\n",
       "    </tr>\n",
       "  </tbody>\n",
       "</table>\n",
       "</div>"
      ],
      "text/plain": [
       "        Unnamed: 0   speaker  \\\n",
       "93438        93438  politico   \n",
       "128477      128477  politico   \n",
       "80524        80524  politico   \n",
       "32832        32832    medico   \n",
       "102252      102252  politico   \n",
       "123089      123089  politico   \n",
       "\n",
       "                                                   dialog  length  \n",
       "93438   No, no se modifica ninguna ley. Fue un acuerdo...     220  \n",
       "128477                   Esta es la inflación anualizada.      32  \n",
       "80524   Esa era una de las reglas de la anterior polít...     143  \n",
       "32832   Entonces, hay que quitarnos ya esta idea de: ‘...     130  \n",
       "102252  Pero no sólo es darle la planta, porque eso no...     406  \n",
       "123089                                   Muy bien. Reyna.      16  "
      ]
     },
     "execution_count": 7,
     "metadata": {},
     "output_type": "execute_result"
    }
   ],
   "source": [
    "#Transformación de datos, cambiar la palabra \"amlo\" por \"politico\". Lo que no sea amlo dejarlo como \"medico\"\n",
    "dialogs[\"speaker\"] = np.where(dialogs['speaker'] == \"amlo\", \"politico\", \"medico\")\n",
    "dialogs.sample(6)"
   ]
  },
  {
   "cell_type": "markdown",
   "metadata": {},
   "source": [
    "<P> Metrica para el caso de estudio: ACCURACY. <p>"
   ]
  },
  {
   "cell_type": "code",
   "execution_count": null,
   "metadata": {},
   "outputs": [],
   "source": []
  }
 ],
 "metadata": {
  "kernelspec": {
   "display_name": "proyectoCoder",
   "language": "python",
   "name": "python3"
  },
  "language_info": {
   "codemirror_mode": {
    "name": "ipython",
    "version": 3
   },
   "file_extension": ".py",
   "mimetype": "text/x-python",
   "name": "python",
   "nbconvert_exporter": "python",
   "pygments_lexer": "ipython3",
   "version": "3.11.4"
  },
  "orig_nbformat": 4
 },
 "nbformat": 4,
 "nbformat_minor": 2
}
